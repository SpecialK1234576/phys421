{
 "cells": [
  {
   "cell_type": "markdown",
   "metadata": {},
   "source": [
    "## A Starting Estimation from First Principles\n",
    "\n",
    "If we know the geometry and make up of the pendulum with a reasonable degree of accuracy, we are able to calculate where the small mass should be positioned so that it will produce the same period in the SMU and SMD orientation.\n",
    "\n",
    "<img src=\"KaterPendulum.png\" width=1000>\n",
    "\n",
    "### Variable Definitions #\n",
    "\n",
    "$M \\rightarrow$ mass of large mass\n",
    "\n",
    "$m \\rightarrow$ mass of small mass\n",
    "\n",
    "$M_{bar} \\rightarrow$ mass of bar\n",
    "\n",
    "$M_{T} = M + m + M_{bar} \\rightarrow$ total mass of system\n",
    "\n",
    "$L_{bar} \\rightarrow$ length of bar\n",
    "\n",
    "$g \\rightarrow$ gravity\n",
    "\n",
    "$R_m \\rightarrow$ radius of small mass\n",
    "\n",
    "$R_M \\rightarrow$ radius of large mass\n",
    "\n",
    "$\\mathbb{R} \\rightarrow$ radius of gyration\n",
    "\n",
    "$\\mathbb{I} \\rightarrow$ moment of inertia\n",
    "\n",
    "\n"
   ]
  },
  {
   "cell_type": "markdown",
   "metadata": {},
   "source": [
    "### Equation of Center of Mass\n",
    "$x = \\frac{M l_1 - m l_2}{M + m + M_{bar}}$\n",
    "\n",
    "### Equations from the Pendulum Measurements\n",
    "$D = h_1 + h_2$\n",
    "\n",
    "$h_2 - x = \\frac{D}{2}$\n",
    "\n",
    "$h_1 + x = \\frac{D}{2}$\n",
    "\n",
    "Combining these equations results in:\n",
    "\n",
    "$x = \\frac{h_2 - h_1}{2}$\n",
    "\n",
    "### Equations of Period and Moment of Inertia\n",
    "$T_i^2 = \\frac{4\\pi^2}{g} \\left(  \\frac{\\mathbb{I}_i}{M_{T} h_i} \\right)$\n",
    "\n",
    "where $i$ is either small-mass-up (smu) or small-mass-down (smd).\n",
    "\n",
    "We define the radius of gyration of the system according to:\n",
    "\n",
    "$\\mathbb{I}^{cm}_{sys} = M_T \\mathbb{R}^2$\n",
    "\n",
    "and thus via the parallel axis theorem, we can write the moments of inertia in the two orientations as:\n",
    "\n",
    "$\\mathbb{I}_i = M_T \\left( \\mathbb{R}^2 + h_i^2 \\right)$\n",
    "\n",
    "Therefore,\n",
    "\n",
    "$T_i^2 = \\frac{4\\pi^2}{g} \\left( \\frac{h_i^2+\\mathbb{R}^2}{h_i} \\right)$\n",
    "\n",
    "If $T_1 = T_2$ then:\n",
    "\n",
    "$\\frac{h_1^2+\\mathbb{R}^2}{h_1} = \\frac{h_2^2+\\mathbb{R}^2}{h_2}$\n",
    "\n",
    "$h_1 h_2 = \\mathbb{R}^2$\n",
    "\n",
    "\n",
    "Now, we write the moment of inertia of the system as:\n",
    "\n",
    "$\\mathbb{I}_{cm}^{sys} = \\mathbb{I}_{M}^{cm} + \\mathbb{I}_{m}^{cm} + \\mathbb{I}_{bar}^{cm}$\n",
    "\n",
    "$\\mathbb{I}_{M}^{cm} = \\frac{1}{2} M R_M^2 + M\\left( l_1 - x \\right)^2$\n",
    "\n",
    "$\\mathbb{I}_{m}^{cm} = \\frac{1}{2} m R_m^2 + m\\left( l_2 + x \\right)^2$\n",
    "\n",
    "$\\mathbb{I}_{bar}^{cm} = \\mathbb{I}_{bar} + M_{bar} x^2$\n",
    "\n",
    "$\\mathbb{I}_{bar} = \\frac{1}{12} M_{bar} L^2$\n",
    "\n",
    "All of which result in:\n",
    "$h_1 h_2 = \\frac{1}{M+m+M_{bar}} \\left[ \\frac{1}{2} M R_M^2 + M\\left( l_1 - x \\right)^2 + \\frac{1}{2} m R_m^2 + m\\left( l_2 + x \\right)^2 + \\frac{1}{12} M_{bar} L^2 + M_{bar} x^2 \\right]$\n",
    "\n",
    "This is equation is difficult to solve analytically, so we will instead solve it numerically.  The goal is to find the value of $x$ that satisfies the equation."
   ]
  },
  {
   "cell_type": "code",
   "metadata": {
    "ExecuteTime": {
     "end_time": "2024-08-30T22:14:49.409046Z",
     "start_time": "2024-08-30T22:14:37.984625Z"
    }
   },
   "source": [
    "import numpy as np\n",
    "import pandas as pd\n",
    "import matplotlib.pyplot as plt\n",
    "from P201_Functions import *"
   ],
   "outputs": [],
   "execution_count": 1
  },
  {
   "cell_type": "code",
   "metadata": {
    "ExecuteTime": {
     "end_time": "2024-08-30T22:15:05.983309Z",
     "start_time": "2024-08-30T22:15:05.789719Z"
    }
   },
   "source": [
    "# Measured distances and masses\n",
    "M=1.34408 # large mass\n",
    "m=0.72559 # small mass\n",
    "Mbar=2.965 # mass of bar (with small and large masses removed)\n",
    "D=0.9986 # distance between knife-edge pivot points\n",
    "L=1.52  # length of bar\n",
    "g = 9.799 # value of g in Newport News\n",
    "\n",
    "# Distance calculations\n",
    "#\n",
    "# The distance between the knife edge pivot and the lower edge of the large mass is 1.35 cm\n",
    "# The radius of the large mass is 4.7523 cm\n",
    "# The radius of the small mass is 3.5 cm\n",
    "RM = 0.0477\n",
    "Rm = 0.0354\n",
    "offset = 0.0135\n",
    "l1=D/2.0+RM+offset\n",
    "\n",
    "# Find the value of x that satisfies the equation above\n",
    "\n",
    "diff = 1.0E+99\n",
    "olddiff = 1.0E+99\n",
    "l2 = []\n",
    "xpos = []\n",
    "t1 = []\n",
    "t2 = []\n",
    "for i in range(1000):\n",
    "    l2.append(D/2.0+Rm+(i/1000.0)*.12)\n",
    "    xpos.append((l2[i]-offset-D/2-Rm)*100) # distance from the small mass to the knife-edge, in cm.\n",
    "    x=(M*l1-m*l2[i])/(M+m+Mbar)\n",
    "    h2=D/2.0+x\n",
    "    h1=D/2.0-x\n",
    "    lhs=h1*h2;\n",
    "    Icm=1.0/12.0*Mbar*L*L+Mbar*x*x+M*(l1-x)*(l1-x)+m*(l2[i]+x)*(l2[i]+x)+1/2.0*m*Rm**2 + 1.0/2*M*RM**2\n",
    "    rhs=Icm/(M+m+Mbar)\n",
    "    diff = lhs-rhs\n",
    "    if (np.abs(diff)<olddiff):\n",
    "        olddiff=diff\n",
    "        index=i\n",
    "    t1.append(2*np.pi*np.sqrt((h1*h1+rhs)/(g*h1)))\n",
    "    t2.append(2*np.pi*np.sqrt((h2*h2+rhs)/(g*h2)))\n",
    "    \n",
    "#print (l2,t1,t2)\n",
    "    \n",
    "plt.plot(xpos,t1,label='Small Mass Down')\n",
    "plt.plot(xpos,t2,label='Small Mass Up')\n",
    "#plt.yscale(\"log\")\n",
    "plt.show()\n"
   ],
   "outputs": [
    {
     "data": {
      "text/plain": [
       "<Figure size 640x480 with 1 Axes>"
      ],
      "image/png": "[encoded data removed]"
     },
     "metadata": {},
     "output_type": "display_data"
    }
   ],
   "execution_count": 2
  },
  {
   "cell_type": "code",
   "execution_count": null,
   "metadata": {},
   "outputs": [],
   "source": []
  }
 ],
 "metadata": {
  "kernelspec": {
   "display_name": "Python 3",
   "language": "python",
   "name": "python3"
  },
  "language_info": {
   "codemirror_mode": {
    "name": "ipython",
    "version": 3
   },
   "file_extension": ".py",
   "mimetype": "text/x-python",
   "name": "python",
   "nbconvert_exporter": "python",
   "pygments_lexer": "ipython3",
   "version": "3.6.8"
  },
  "latex_envs": {
   "LaTeX_envs_menu_present": true,
   "autoclose": false,
   "autocomplete": true,
   "bibliofile": "biblio.bib",
   "cite_by": "apalike",
   "current_citInitial": 1,
   "eqLabelWithNumbers": true,
   "eqNumInitial": 1,
   "hotkeys": {
    "equation": "Ctrl-E",
    "itemize": "Ctrl-I"
   },
   "labels_anchors": false,
   "latex_user_defs": false,
   "report_style_numbering": false,
   "user_envs_cfg": false
  }
 },
 "nbformat": 4,
 "nbformat_minor": 4
}
